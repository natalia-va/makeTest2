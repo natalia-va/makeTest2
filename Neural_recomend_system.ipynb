{
  "nbformat": 4,
  "nbformat_minor": 0,
  "metadata": {
    "colab": {
      "name": "Neural recomend system.ipynb",
      "provenance": [],
      "authorship_tag": "ABX9TyPYz8j6mXJOpMgPae727SpQ",
      "include_colab_link": true
    },
    "kernelspec": {
      "name": "python3",
      "display_name": "Python 3"
    }
  },
  "cells": [
    {
      "cell_type": "markdown",
      "metadata": {
        "id": "view-in-github",
        "colab_type": "text"
      },
      "source": [
        "<a href=\"https://colab.research.google.com/github/natalia-va/makeTest2/blob/master/Neural_recomend_system.ipynb\" target=\"_parent\"><img src=\"https://colab.research.google.com/assets/colab-badge.svg\" alt=\"Open In Colab\"/></a>"
      ]
    },
    {
      "cell_type": "code",
      "metadata": {
        "id": "ofwEEV0br5YR"
      },
      "source": [
        "!pip install seaborn\n",
        "!pip install lenskit\n",
        "!pip install pandas\n",
        "!pip install torch\n",
        "!pip install torchviz"
      ],
      "execution_count": null,
      "outputs": []
    },
    {
      "cell_type": "code",
      "metadata": {
        "id": "Q67w0o8xsPd_"
      },
      "source": [
        "import torch\n",
        "import torch.nn as nn\n",
        "import torch.nn.functional as F\n",
        "import pandas as pd\n",
        "from torchviz import make_dot\n",
        "\n",
        "from lenskit import batch, util\n",
        "from lenskit import crossfold as xf\n",
        "from torch.autograd import Variable\n",
        "\n",
        "\n",
        "import numpy as np\n",
        "\n",
        "import matplotlib.pyplot as plt"
      ],
      "execution_count": null,
      "outputs": []
    },
    {
      "cell_type": "code",
      "metadata": {
        "id": "aTaPXjD8tsPF",
        "colab": {
          "base_uri": "https://localhost:8080/"
        },
        "outputId": "50320109-9497-4b6d-f76f-c543d60256c2"
      },
      "source": [
        "!git clone https://github.com/HaykInanc/move_data.git "
      ],
      "execution_count": null,
      "outputs": [
        {
          "output_type": "stream",
          "text": [
            "fatal: destination path 'move_data' already exists and is not an empty directory.\n"
          ],
          "name": "stdout"
        }
      ]
    },
    {
      "cell_type": "code",
      "metadata": {
        "id": "YSHaeoPbs1ZF"
      },
      "source": [
        "ratings = pd.read_csv('/content/move_data/ratings.csv') #ПользовательId-фильмId-рейтинг\n",
        "movies = pd.read_csv('/content/move_data/movies.csv') #ФильмId-название-жанры"
      ],
      "execution_count": null,
      "outputs": []
    },
    {
      "cell_type": "code",
      "metadata": {
        "id": "01SH9iPc18RN"
      },
      "source": [
        "n_users  = ratings.userId.nunique() #Число уникальных пользователей\n",
        "n_movies = ratings.movieId.nunique() #Число уникальных фильмов\n",
        "\n",
        "n_fich = 50 #размерность в embed"
      ],
      "execution_count": null,
      "outputs": []
    },
    {
      "cell_type": "code",
      "metadata": {
        "id": "a9Vww-IPHptm"
      },
      "source": [
        "#Поменяем userId и movieId в базовых таблицах на последовательные, начинающиеся с 0.\n",
        "#\n",
        "def data_preparation(movies, ratings):\n",
        "  \n",
        "    uniq_users = ratings.userId.unique()\n",
        "    uniq_movies = ratings.movieId.unique()\n",
        "\n",
        "    #Таблица movie избыточна, удалим далее неоцененные фильмы\n",
        "    id_rated_films = uniq_movies\n",
        "    id_not_rated_films = [x for x in movies['movieId'] if x not in id_rated_films]\n",
        "\n",
        "    if len(id_not_rated_films) !=0:\n",
        "        id_fields_not_rated_films_in_movie = [movies[movies['movieId'] == i].index[0] for i in id_not_rated_films]\n",
        "        movies = movies.drop(id_fields_not_rated_films_in_movie)\n",
        "\n",
        "    #Словари соответствия старого индекса новому\n",
        "    useridtoidx = {o:i for i,o in enumerate(uniq_users)} \n",
        "    movieidtoidx= {o:i for i,o in enumerate(uniq_movies)}\n",
        "\n",
        "    ratings.userId = ratings.userId.apply(lambda x:useridtoidx[x])\n",
        "    ratings.movieId = ratings.movieId.apply(lambda x:movieidtoidx[x])\n",
        "    movies.movieId = movies.movieId.apply(lambda x:movieidtoidx[x])\n",
        "\n",
        "    return movies, ratings\n",
        " "
      ],
      "execution_count": null,
      "outputs": []
    },
    {
      "cell_type": "code",
      "metadata": {
        "id": "XmEsUl65Wwvd"
      },
      "source": [
        "movies, ratings = data_preparation(movies, ratings)\n",
        "ratings = ratings.rename(columns={'userId': 'user', 'movieId': 'movie'})\n",
        "ratings = ratings.rename(columns={'movieId': 'movie'})"
      ],
      "execution_count": null,
      "outputs": []
    },
    {
      "cell_type": "code",
      "metadata": {
        "id": "Xm6rJzjG3lUb"
      },
      "source": [
        "#Разделение на тренировочную и обучающую выборку\n",
        "data = []\n",
        "\n",
        "for train, test in xf.partition_users(ratings, 1, xf.SampleFrac(0.2)):\n",
        "    data.append(train)\n",
        "    data.append(test)"
      ],
      "execution_count": null,
      "outputs": []
    },
    {
      "cell_type": "code",
      "metadata": {
        "id": "XpKkaSyTXRZJ"
      },
      "source": [
        "#Функция ошибки \n",
        "def my_RMSE(y_true, y_pred):\n",
        "        return torch.sqrt(torch.mean(torch.square(y_pred - y_true), axis=-1))"
      ],
      "execution_count": null,
      "outputs": []
    },
    {
      "cell_type": "code",
      "metadata": {
        "id": "MYy7_UCsXr9j"
      },
      "source": [
        "class model_rec_system(nn.Module):\n",
        "\n",
        "    def __init__(self, n_users, n_movies, n_fich):\n",
        "        super().__init__()\n",
        "        self.eu = nn.Embedding(n_users, n_fich)\n",
        "        self.eu.weight.data.uniform_(-0.01,0.01)\n",
        "       \n",
        "        self.em = nn.Embedding(n_movies, n_fich)\n",
        "        self.em.weight.data.uniform_(-0.01,0.01)\n",
        "\n",
        "        # layer 1 fully connected 150 units\n",
        "        self.lin1 = nn.Linear(n_fich*2, 150)\n",
        "        \n",
        "        # layer 2 fully connected 50 units\n",
        "        self.lin2 = nn.Linear(150, 50)\n",
        "        \n",
        "        # layer 3 fully connected 1 unit (output)\n",
        "        self.lin3 = nn.Linear(50, 1)\n",
        "        \n",
        "        # dropouts\n",
        "        self.drop1 = nn.Dropout(0.5)\n",
        "        self.drop2 = nn.Dropout(0.4)\n",
        "        self.drop3 = nn.Dropout(0.25)\n",
        "        \n",
        "    def forward(self, data):\n",
        "\n",
        "        users = data[0]\n",
        "        movies = data[1]\n",
        "        x = torch.cat([self.eu(users),self.em(movies)], dim=1)\n",
        "        x = self.drop1(x)\n",
        "        x = self.drop2(F.relu(self.lin1(x)))\n",
        "        x = self.drop3(F.relu(self.lin2(x)))\n",
        "        \n",
        "        # output\n",
        "        x = F.sigmoid(self.lin3(x)) * (max_rating-min_rating+1) + min_rating\n",
        "\n",
        "        return x\n",
        "\n",
        "#ограничивающие оценку значения\n",
        "max_rating = 5 \n",
        "min_rating = 0\n",
        "\n",
        "device = torch.device('cuda') if torch.cuda.is_available()  else torch.device('cpu')\n",
        "net = model_rec_system(n_users, n_movies, n_fich)\n",
        "\n",
        "optimizer = torch.optim.Adam(net.parameters(), lr=1e-3, weight_decay=1e-5)\n",
        "losses = []\n"
      ],
      "execution_count": null,
      "outputs": []
    },
    {
      "cell_type": "code",
      "metadata": {
        "id": "AyczyCp1_JQ1"
      },
      "source": [
        "X_train = [torch.tensor(data[0]['user'].values.tolist()), torch.tensor(data[0]['movie'].values.tolist())]\n",
        "Y_train = torch.tensor(data[0]['rating'].values.tolist()).view(-1,1)\n",
        "\n",
        "X_test = [data[1]['user'].values, data[1]['movie'].values]\n",
        "Y_test = data[1]['rating'].values\n"
      ],
      "execution_count": null,
      "outputs": []
    },
    {
      "cell_type": "code",
      "metadata": {
        "id": "SxcPTlajCqL4",
        "colab": {
          "base_uri": "https://localhost:8080/"
        },
        "outputId": "65014aff-85ab-4caa-d940-9e00b21bedcd"
      },
      "source": [
        "criterion = nn.MSELoss()\n",
        "n_epoch = 20\n",
        "for epoch in range(n_epoch):\n",
        "   y_pred = net(X_train)\n",
        "   loss = criterion(Y_train, y_pred)\n",
        "\n",
        "   print('epoch: ', epoch,' loss: ', loss.item())\n",
        "   optimizer.zero_grad()\n",
        "\n",
        "   loss.backward()\n",
        "   optimizer.step()\n",
        "      \n"
      ],
      "execution_count": null,
      "outputs": [
        {
          "output_type": "stream",
          "text": [
            "/usr/local/lib/python3.6/dist-packages/torch/nn/functional.py:1639: UserWarning: nn.functional.sigmoid is deprecated. Use torch.sigmoid instead.\n",
            "  warnings.warn(\"nn.functional.sigmoid is deprecated. Use torch.sigmoid instead.\")\n"
          ],
          "name": "stderr"
        },
        {
          "output_type": "stream",
          "text": [
            "epoch:  0  loss:  0.7825955152511597\n",
            "epoch:  1  loss:  0.7788111567497253\n",
            "epoch:  2  loss:  0.7740965485572815\n",
            "epoch:  3  loss:  0.7692669034004211\n",
            "epoch:  4  loss:  0.7668476104736328\n",
            "epoch:  5  loss:  0.7632676362991333\n",
            "epoch:  6  loss:  0.7601438164710999\n",
            "epoch:  7  loss:  0.7563274502754211\n",
            "epoch:  8  loss:  0.7527014017105103\n",
            "epoch:  9  loss:  0.7461792230606079\n",
            "epoch:  10  loss:  0.743732213973999\n",
            "epoch:  11  loss:  0.7382072806358337\n",
            "epoch:  12  loss:  0.73570317029953\n",
            "epoch:  13  loss:  0.7307327389717102\n",
            "epoch:  14  loss:  0.7267405986785889\n",
            "epoch:  15  loss:  0.7221246361732483\n",
            "epoch:  16  loss:  0.7170436978340149\n",
            "epoch:  17  loss:  0.7153509855270386\n",
            "epoch:  18  loss:  0.7118858098983765\n",
            "epoch:  19  loss:  0.7088191509246826\n"
          ],
          "name": "stdout"
        }
      ]
    },
    {
      "cell_type": "code",
      "metadata": {
        "id": "5sqpAih0dy2P"
      },
      "source": [
        "a = [torch.tensor([3]), torch.tensor([3])]\n",
        "print(net(a))"
      ],
      "execution_count": null,
      "outputs": []
    }
  ]
}